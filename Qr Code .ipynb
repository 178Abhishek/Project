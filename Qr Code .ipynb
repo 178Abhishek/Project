{
 "cells": [
  {
   "cell_type": "code",
   "execution_count": 2,
   "id": "c18f526d-a2a7-4c41-a158-d2fd377c7793",
   "metadata": {},
   "outputs": [
    {
     "name": "stdout",
     "output_type": "stream",
     "text": [
      "Collecting pyqrcode\n",
      "  Downloading PyQRCode-1.2.1.zip (41 kB)\n",
      "\u001b[2K     \u001b[90m━━━━━━━━━━━━━━━━━━━━━━━━━━━━━━━━━━━━━━━━\u001b[0m \u001b[32m41.9/41.9 kB\u001b[0m \u001b[31m3.5 MB/s\u001b[0m eta \u001b[36m0:00:00\u001b[0m\n",
      "\u001b[?25h  Preparing metadata (setup.py) ... \u001b[?25ldone\n",
      "\u001b[?25hBuilding wheels for collected packages: pyqrcode\n",
      "  Building wheel for pyqrcode (setup.py) ... \u001b[?25ldone\n",
      "\u001b[?25h  Created wheel for pyqrcode: filename=PyQRCode-1.2.1-py3-none-any.whl size=36227 sha256=66f90548fedc07de16ca38872c3f6bc975363d945a4a65e45cfffdac3e90c127\n",
      "  Stored in directory: /home/jovyan/.cache/pip/wheels/78/19/3c/222640a44eb962b726eca6571852559c4f653813af9118f66e\n",
      "Successfully built pyqrcode\n",
      "Installing collected packages: pyqrcode\n",
      "Successfully installed pyqrcode-1.2.1\n",
      "Note: you may need to restart the kernel to use updated packages.\n"
     ]
    }
   ],
   "source": [
    "pip install pyqrcode"
   ]
  },
  {
   "cell_type": "code",
   "execution_count": 1,
   "id": "b627592f-100e-4934-b69d-8636597b26e9",
   "metadata": {},
   "outputs": [],
   "source": [
    "import pyqrcode"
   ]
  },
  {
   "cell_type": "code",
   "execution_count": 2,
   "id": "0ad7e1d4-469e-401c-81fd-3dd0adacd4c4",
   "metadata": {},
   "outputs": [],
   "source": [
    "from pyqrcode import QRCode"
   ]
  },
  {
   "cell_type": "code",
   "execution_count": 5,
   "id": "9c914c4d-f07a-478f-9717-f27d2edf0013",
   "metadata": {},
   "outputs": [],
   "source": [
    "# String which represent the QR code \n",
    "a = 'https://www.youtube.com/@statisticianguru'"
   ]
  },
  {
   "cell_type": "code",
   "execution_count": 6,
   "id": "1e9f5333-bdaf-4cd3-b993-538a04d03bbf",
   "metadata": {},
   "outputs": [],
   "source": [
    "# Generate QR code \n",
    "url = pyqrcode.create(a) "
   ]
  },
  {
   "cell_type": "code",
   "execution_count": 7,
   "id": "d88e66a9-eb60-41e1-ab47-1278e7ca0418",
   "metadata": {},
   "outputs": [],
   "source": [
    "# Create and save the png file naming \"myqr.png\" \n",
    "url.svg(\"myyoutube.svg\", scale = 8)"
   ]
  },
  {
   "cell_type": "code",
   "execution_count": null,
   "id": "a9f4f4ab-a8c8-41a3-8746-7fff349898c5",
   "metadata": {},
   "outputs": [],
   "source": []
  }
 ],
 "metadata": {
  "kernelspec": {
   "display_name": "Python 3 (ipykernel)",
   "language": "python",
   "name": "python3"
  },
  "language_info": {
   "codemirror_mode": {
    "name": "ipython",
    "version": 3
   },
   "file_extension": ".py",
   "mimetype": "text/x-python",
   "name": "python",
   "nbconvert_exporter": "python",
   "pygments_lexer": "ipython3",
   "version": "3.10.8"
  }
 },
 "nbformat": 4,
 "nbformat_minor": 5
}
